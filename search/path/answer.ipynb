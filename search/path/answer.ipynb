{
 "cells": [
  {
   "cell_type": "markdown",
   "metadata": {},
   "source": [
    "# ロボットの経路計画"
   ]
  },
  {
   "cell_type": "markdown",
   "metadata": {},
   "source": [
    "## 問題設定"
   ]
  },
  {
   "cell_type": "code",
   "execution_count": null,
   "metadata": {},
   "outputs": [],
   "source": [
    "import matplotlib.pyplot as plt\n",
    "from base import Pos, State\n",
    "\n",
    "# 初期状態\n",
    "initial_state = State(((1, 3), (2, 3)), 0, None)\n",
    "# 目標状態\n",
    "goal_pos: Pos = ((4, 7), (5, 7))\n"
   ]
  },
  {
   "cell_type": "markdown",
   "metadata": {},
   "source": [
    "## 幅優先探索"
   ]
  },
  {
   "cell_type": "code",
   "execution_count": null,
   "metadata": {},
   "outputs": [],
   "source": [
    "from bfs import bfs\n",
    "\n",
    "ani = bfs(initial_state, goal_pos, False)\n",
    "# ani.save('./fig/bfs.gif', writer=\"imagemagick\")\n"
   ]
  },
  {
   "cell_type": "markdown",
   "metadata": {},
   "source": [
    "## A\\*探索"
   ]
  },
  {
   "cell_type": "code",
   "execution_count": null,
   "metadata": {},
   "outputs": [],
   "source": [
    "from a_star import a_star\n",
    "\n",
    "ani = a_star(initial_state, goal_pos, False)\n",
    "# ani.save('./fig/a_star.gif', writer=\"imagemagick\")\n"
   ]
  },
  {
   "cell_type": "markdown",
   "metadata": {},
   "source": [
    "## LRTA\\*探索"
   ]
  },
  {
   "cell_type": "code",
   "execution_count": null,
   "metadata": {},
   "outputs": [],
   "source": [
    "from lrta_star import lrta_star\n",
    "\n",
    "h_dict = {}\n",
    "for k in range(3):\n",
    "    ani, h_dict = lrta_star(initial_state, goal_pos, h_dict, False)\n",
    "    # ani.save(f'./fig/lrta_star_{k}.gif', writer=\"imagemagick\")\n"
   ]
  }
 ],
 "metadata": {
  "interpreter": {
   "hash": "38006e8ae9c0ad05cac0b02ae7a8be97098368b0ae04d9cd1ead60bf61b5f427"
  },
  "kernelspec": {
   "display_name": "Python 3.10.0 64-bit ('mp-opt-2-2021-P_shXgTd': pipenv)",
   "name": "python3"
  },
  "language_info": {
   "codemirror_mode": {
    "name": "ipython",
    "version": 3
   },
   "file_extension": ".py",
   "mimetype": "text/x-python",
   "name": "python",
   "nbconvert_exporter": "python",
   "pygments_lexer": "ipython3",
   "version": "3.10.0"
  },
  "orig_nbformat": 4
 },
 "nbformat": 4,
 "nbformat_minor": 2
}
